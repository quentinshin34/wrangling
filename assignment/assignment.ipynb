{
  "cells": [
    {
      "cell_type": "markdown",
      "id": "13ad028b-72b7-43ed-aa78-96fd4e518040",
      "metadata": {
        "id": "13ad028b-72b7-43ed-aa78-96fd4e518040"
      },
      "source": [
        "# Assignment: Data Wrangling\n",
        "## `! git clone https://github.com/DS3001/wrangling`\n",
        "## Do Q2, and one of Q1 or Q3."
      ]
    },
    {
      "cell_type": "markdown",
      "id": "5735a4d4-8be8-433a-a351-70eb8002e632",
      "metadata": {
        "id": "5735a4d4-8be8-433a-a351-70eb8002e632"
      },
      "source": [
        "**Q1.** Open the \"tidy_data.pdf\" document in the repo, which is a paper called Tidy Data by Hadley Wickham.\n",
        "\n",
        "  1. Read the abstract. What is this paper about?\n",
        "  2. Read the introduction. What is the \"tidy data standard\" intended to accomplish?\n",
        "  3. Read the intro to section 2. What does this sentence mean: \"Like families, tidy datasets are all alike but every messy dataset is messy in its own way.\" What does this sentence mean: \"For a given dataset, it’s usually easy to figure out what are observations and what are variables, but it is surprisingly difficult to precisely define variables and observations in general.\"\n",
        "  4. Read Section 2.2. How does Wickham define values, variables, and observations?\n",
        "  5. How is \"Tidy Data\" defined in section 2.3?\n",
        "  6. Read the intro to Section 3 and Section 3.1. What are the 5 most common problems with messy datasets? Why are the data in Table 4 messy? What is \"melting\" a dataset?\n",
        "  7. Why, specifically, is table 11 messy but table 12 tidy and \"molten\"?\n",
        "  8. Read Section 6. What is the \"chicken-and-egg\" problem with focusing on tidy data? What does Wickham hope happens in the future with further work on the subject of data wrangling?"
      ]
    },
    {
      "cell_type": "markdown",
      "source": [
        "1. This paper is about the importance of a consistent data structure. By tidying data in structures to rows and columns for every variable and observation, respectively, there can be specific tools for efficient cleaning and analyzing data.\n",
        "2. The tidy data standard is intended to \"facilitate initial exploration and analysis of the data and to simplify the development of data analysis tools that work together\". Essentially, putting in time and effort to tidy the data will make the analysis much easier, and the consistent structures allows tools to work together to make facilitate the analyses.\n",
        "3. 3.1: Messy datasets are very hard to work with because each is unique, and you do not know the structure of multiple different messy datasets. When datasets are tidy, they are alike and you can interact with the data simlarly.\n",
        "  3.2: It is difficult to define variables and observations in general because there are many, many different contexts and structure of the data in each different case. It is very hard to generalize variables across different examples, so tidying data may need slightly different approaches.\n",
        "4. A data set is a collection of values (usually numbers or strings), every value belongs to a variable, all values that measure the same underlying attribute across units, and an observation, all values measured on the same unit across attributes.\n",
        "5. Tidy data is a standard way of mapping the meaning of a dataset to its structure, so that each variable forms a column, each observation forms a row, and each type of observational unit forms a table.\n",
        "6. 5 most common problems in messy data:\n",
        "  1. Column headers are values, not names\n",
        "  2. Multiple variables in one column\n",
        "  3. Variables stored in rows and columns\n",
        "  4. Multiple obesrvational units in same table\n",
        "  5. A single observational unit in multiple tables\n",
        "  The data in table 4 are messy because it needs to be melted so that the we do not have to parse through each income group when interacting with the data. After melting, the numeric values will be in a column \"freq\" or something similar.\n",
        "  Melting a data set means turning columns into row.\n",
        "7. Table 12 is tidy because it has one variable in eahc column and each row represents a day's operation. Table 11 is messy because the element column has variable names.\n",
        "8. Tidy tools will be linked to tidy data, independently changing data structures or data tools will not improve working with the data. Both tools and the data need to work together and be efficient. Wickham hopes that others will build on the framework of tidy data to develop better storage strategies and tools. He also hopes to improve the understanding of the cognitive side of data analysis and generally make other data cleaning tasks easier and more efficient.\n"
      ],
      "metadata": {
        "id": "uW4Ofm4WYIal"
      },
      "id": "uW4Ofm4WYIal"
    },
    {
      "cell_type": "markdown",
      "id": "da879ea7-8aac-48a3-b6c2-daea56d2e072",
      "metadata": {
        "id": "da879ea7-8aac-48a3-b6c2-daea56d2e072"
      },
      "source": [
        "**Q2.** This question provides some practice cleaning variables which have common problems.\n",
        "1. Numeric variable: For `./data/airbnb_hw.csv`, clean the `Price` variable as well as you can, and explain the choices you make. How many missing values do you end up with? (Hint: What happens to the formatting when a price goes over 999 dollars, say from 675 to 1,112?)\n",
        "2. Categorical variable: For the `./data/sharks.csv` data covered in the lecture, clean the \"Type\" variable as well as you can, and explain the choices you make.\n",
        "3. Dummy variable: For the pretrial data covered in the lecture, clean the `WhetherDefendantWasReleasedPretrial` variable as well as you can, and, in particular, replace missing values with `np.nan`.\n",
        "4. Missing values, not at random: For the pretrial data covered in the lecture, clean the `ImposedSentenceAllChargeInContactEvent` variable as well as you can, and explain the choices you make. (Hint: Look at the `SentenceTypeAllChargesAtConvictionInContactEvent` variable.)"
      ]
    },
    {
      "cell_type": "markdown",
      "id": "649494cd-cfd6-4f80-992a-9994fc19e1d5",
      "metadata": {
        "id": "649494cd-cfd6-4f80-992a-9994fc19e1d5"
      },
      "source": [
        "**Q3.** Many important datasets contain a race variable, typically limited to a handful of values often including Black, White, Asian, Latino, and Indigenous. This question looks at data gathering efforts on this variable by the U.S. Federal government.\n",
        "\n",
        "1. How did the most recent US Census gather data on race?\n",
        "2. Why do we gather these data? What role do these kinds of data play in politics and society? Why does data quality matter?\n",
        "3. Please provide a constructive criticism of how the Census was conducted: What was done well? What do you think was missing? How should future large scale surveys be adjusted to best reflect the diversity of the population? Could some of the Census' good practices be adopted more widely to gather richer and more useful data?\n",
        "4. How did the Census gather data on sex and gender? Please provide a similar constructive criticism of their practices.\n",
        "5. When it comes to cleaning data, what concerns do you have about protected characteristics like sex, gender, sexual identity, or race? What challenges can you imagine arising when there are missing values? What good or bad practices might people adopt, and why?\n",
        "6. Suppose someone invented an algorithm to impute values for protected characteristics like race, gender, sex, or sexuality. What kinds of concerns would you have?"
      ]
    }
  ],
  "metadata": {
    "colab": {
      "provenance": []
    },
    "kernelspec": {
      "display_name": "Python 3 (ipykernel)",
      "language": "python",
      "name": "python3"
    },
    "language_info": {
      "codemirror_mode": {
        "name": "ipython",
        "version": 3
      },
      "file_extension": ".py",
      "mimetype": "text/x-python",
      "name": "python",
      "nbconvert_exporter": "python",
      "pygments_lexer": "ipython3",
      "version": "3.10.4"
    }
  },
  "nbformat": 4,
  "nbformat_minor": 5
}