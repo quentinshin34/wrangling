{
  "cells": [
    {
      "cell_type": "markdown",
      "id": "13ad028b-72b7-43ed-aa78-96fd4e518040",
      "metadata": {
        "id": "13ad028b-72b7-43ed-aa78-96fd4e518040"
      },
      "source": [
        "# Assignment: Data Wrangling\n",
        "## `! git clone https://github.com/DS3001/wrangling`\n",
        "## Do Q2, and one of Q1 or Q3."
      ]
    },
    {
      "cell_type": "markdown",
      "id": "5735a4d4-8be8-433a-a351-70eb8002e632",
      "metadata": {
        "id": "5735a4d4-8be8-433a-a351-70eb8002e632"
      },
      "source": [
        "**Q1.** Open the \"tidy_data.pdf\" document in the repo, which is a paper called Tidy Data by Hadley Wickham.\n",
        "\n",
        "  1. Read the abstract. What is this paper about?\n",
        "  2. Read the introduction. What is the \"tidy data standard\" intended to accomplish?\n",
        "  3. Read the intro to section 2. What does this sentence mean: \"Like families, tidy datasets are all alike but every messy dataset is messy in its own way.\" What does this sentence mean: \"For a given dataset, it’s usually easy to figure out what are observations and what are variables, but it is surprisingly difficult to precisely define variables and observations in general.\"\n",
        "  4. Read Section 2.2. How does Wickham define values, variables, and observations?\n",
        "  5. How is \"Tidy Data\" defined in section 2.3?\n",
        "  6. Read the intro to Section 3 and Section 3.1. What are the 5 most common problems with messy datasets? Why are the data in Table 4 messy? What is \"melting\" a dataset?\n",
        "  7. Why, specifically, is table 11 messy but table 12 tidy and \"molten\"?\n",
        "  8. Read Section 6. What is the \"chicken-and-egg\" problem with focusing on tidy data? What does Wickham hope happens in the future with further work on the subject of data wrangling?"
      ]
    },
    {
      "cell_type": "markdown",
      "source": [
        "1. This paper is about the importance of a consistent data structure. By tidying data in structures to rows and columns for every variable and observation, respectively, there can be specific tools for efficient cleaning and analyzing data.\n",
        "2. The tidy data standard is intended to \"facilitate initial exploration and analysis of the data and to simplify the development of data analysis tools that work together\". Essentially, putting in time and effort to tidy the data will make the analysis much easier, and the consistent structures allows tools to work together to make facilitate the analyses.\n",
        "3. 3.1: Messy datasets are very hard to work with because each is unique, and you do not know the structure of multiple different messy datasets. When datasets are tidy, they are alike and you can interact with the data simlarly.\n",
        "  3.2: It is difficult to define variables and observations in general because there are many, many different contexts and structure of the data in each different case. It is very hard to generalize variables across different examples, so tidying data may need slightly different approaches.\n",
        "4. A data set is a collection of values (usually numbers or strings), every value belongs to a variable, all values that measure the same underlying attribute across units, and an observation, all values measured on the same unit across attributes.\n",
        "5. Tidy data is a standard way of mapping the meaning of a dataset to its structure, so that each variable forms a column, each observation forms a row, and each type of observational unit forms a table.\n",
        "6. 5 most common problems in messy data:\n",
        "  1. Column headers are values, not names\n",
        "  2. Multiple variables in one column\n",
        "  3. Variables stored in rows and columns\n",
        "  4. Multiple obesrvational units in same table\n",
        "  5. A single observational unit in multiple tables\n",
        "  The data in table 4 are messy because it needs to be melted so that the we do not have to parse through each income group when interacting with the data. After melting, the numeric values will be in a column \"freq\" or something similar.\n",
        "  Melting a data set means turning columns into row.\n",
        "7. Table 12 is tidy because it has one variable in eahc column and each row represents a day's operation. Table 11 is messy because the element column has variable names.\n",
        "8. Tidy tools will be linked to tidy data, independently changing data structures or data tools will not improve working with the data. Both tools and the data need to work together and be efficient. Wickham hopes that others will build on the framework of tidy data to develop better storage strategies and tools. He also hopes to improve the understanding of the cognitive side of data analysis and generally make other data cleaning tasks easier and more efficient.\n"
      ],
      "metadata": {
        "id": "uW4Ofm4WYIal"
      },
      "id": "uW4Ofm4WYIal"
    },
    {
      "cell_type": "code",
      "source": [],
      "metadata": {
        "id": "zXhCXj2KS6JC"
      },
      "id": "zXhCXj2KS6JC",
      "execution_count": null,
      "outputs": []
    },
    {
      "cell_type": "markdown",
      "id": "da879ea7-8aac-48a3-b6c2-daea56d2e072",
      "metadata": {
        "id": "da879ea7-8aac-48a3-b6c2-daea56d2e072"
      },
      "source": [
        "**Q2.** This question provides some practice cleaning variables which have common problems.\n",
        "1. Numeric variable: For `./data/airbnb_hw.csv`, clean the `Price` variable as well as you can, and explain the choices you make. How many missing values do you end up with? (Hint: What happens to the formatting when a price goes over 999 dollars, say from 675 to 1,112?)\n",
        "2. Categorical variable: For the `./data/sharks.csv` data covered in the lecture, clean the \"Type\" variable as well as you can, and explain the choices you make.\n",
        "3. Dummy variable: For the pretrial data covered in the lecture, clean the `WhetherDefendantWasReleasedPretrial` variable as well as you can, and, in particular, replace missing values with `np.nan`.\n",
        "4. Missing values, not at random: For the pretrial data covered in the lecture, clean the `ImposedSentenceAllChargeInContactEvent` variable as well as you can, and explain the choices you make. (Hint: Look at the `SentenceTypeAllChargesAtConvictionInContactEvent` variable.)"
      ]
    },
    {
      "cell_type": "markdown",
      "source": [
        "1. To clean the Price variable, I removed the commas from the prices above $999, and converted them to numeric form\n",
        "2. To keep the Type variable, I reduced the number of unique values there are in the Type column, as some were similar but just entered different. This also helped categorize a couple of misspellings and the null values in the column. 'Boat','Boating','Watercraft','Boatomg' were combined into \"Boating\", 'Unconfirmed','Unverified', and 'Under investigation' were combined into 'Unknown', all 'Questionable' types and null/empty cells were switched to the 'Invalid' types.\n",
        "3. To clean the WhetherDefendantWasReleasedPretrial variable, I first renamed it to a simple column name \"released\". It seems that the column is meant to be binary with 1s and 0s, but there are also 9s which likely represent missing values. So, I replaced all 9s with NAs.\n",
        "4. To clean the ImposedSentenceAllChargeInContactEvent variables, I also renamed it to a simple column name \"sentence\". I then compared the values to the corresponding values in. There were 31 missing values.\n",
        "SentenceTypeAllChargesAtConvictionInContactEvent variable. The 0s were confirmed to be 0s which meant no sentencing, 4s and 9s became NAs and everything else stayed the same. I attempted to get ride of the trailing 0s on whole numbers but was not able to. There were 5093 missing values."
      ],
      "metadata": {
        "id": "ZfCIXw0WfIQe"
      },
      "id": "ZfCIXw0WfIQe"
    },
    {
      "cell_type": "code",
      "source": [
        "system(\"git clone https://github.com/quentinshin34/wrangling\")\n",
        "setwd(\"wrangling\")\n"
      ],
      "metadata": {
        "id": "QROiXGnOjGNC"
      },
      "id": "QROiXGnOjGNC",
      "execution_count": 15,
      "outputs": []
    },
    {
      "cell_type": "code",
      "source": [
        "airbnb = read.csv(\"assignment/data/airbnb_hw.csv\")\n",
        "airbnb <- airbnb %>%\n",
        "  mutate(Price = gsub(\",\", \"\", Price),\n",
        "         Price = as.numeric(Price))\n",
        "\n",
        "missing_values <- sum(is.na(airbnb$Price))\n",
        "print(missing_values)"
      ],
      "metadata": {
        "id": "na7MHlmifT5A",
        "outputId": "329a3b38-3000-42f2-a29b-0dd5720c588d",
        "colab": {
          "base_uri": "https://localhost:8080/"
        }
      },
      "id": "na7MHlmifT5A",
      "execution_count": 22,
      "outputs": [
        {
          "output_type": "stream",
          "name": "stdout",
          "text": [
            "[1] 0\n"
          ]
        }
      ]
    },
    {
      "cell_type": "code",
      "source": [
        "sharks = read.csv(\"assignment/data/sharks.csv\") # read in sharks csv\n",
        "table(sharks$Type) # list different values in type column\n",
        "sharks <- sharks %>%\n",
        "  mutate(Type = case_when(\n",
        "    Type %in% c('Boat','Boating','Watercraft','Boatomg') ~ 'Boating', # combine into boating\n",
        "    Type %in% c('Unconfirmed','Unverified','Under investigation') ~ 'Unknown', # combine three into unknown\n",
        "    Type %in% c('Questionable',\"\") ~ 'Invalid', # switch questionable to invalid\n",
        "    is.na(Type) ~ 'Invalid', # convert all null values to invalid\n",
        "    TRUE ~ Type # keep all others the same\n",
        "\n",
        "  ))\n",
        "\n",
        "table(sharks$Type) # check if there are less different values"
      ],
      "metadata": {
        "id": "LhJt03WjsOuk",
        "outputId": "531871bf-759c-419a-982d-973d1b75b10d",
        "colab": {
          "base_uri": "https://localhost:8080/",
          "height": 230
        }
      },
      "id": "LhJt03WjsOuk",
      "execution_count": 21,
      "outputs": [
        {
          "output_type": "display_data",
          "data": {
            "text/plain": [
              "\n",
              "                                   Boat             Boating             Boatomg \n",
              "                  5                 109                  92                   1 \n",
              "            Invalid            Provoked        Questionable        Sea Disaster \n",
              "                552                 593                  10                 239 \n",
              "        Unconfirmed Under investigation          Unprovoked          Unverified \n",
              "                  1                   1                4716                   1 \n",
              "         Watercraft \n",
              "                142 "
            ]
          },
          "metadata": {}
        },
        {
          "output_type": "display_data",
          "data": {
            "text/plain": [
              "\n",
              "     Boating      Invalid     Provoked Sea Disaster      Unknown   Unprovoked \n",
              "         344          567          593          239            3         4716 "
            ]
          },
          "metadata": {}
        }
      ]
    },
    {
      "cell_type": "code",
      "source": [
        "url = 'http://www.vcsc.virginia.gov/pretrialdataproject/October%202017%20Cohort_Virginia%20Pretrial%20Data%20Project_Deidentified%20FINAL%20Update_10272021.csv'\n",
        "pretrial2 = read.csv(url)\n",
        "head(pretrial2)\n",
        "pretrial2 <- pretrial2 %>%\n",
        "  rename(released = WhetherDefendantWasReleasedPretrial)"
      ],
      "metadata": {
        "id": "TbBwF6RzIiOn",
        "outputId": "815fe038-c599-4434-d11d-ee7d478bc68e",
        "colab": {
          "base_uri": "https://localhost:8080/",
          "height": 410
        }
      },
      "id": "TbBwF6RzIiOn",
      "execution_count": 27,
      "outputs": [
        {
          "output_type": "display_data",
          "data": {
            "text/html": [
              "<table class=\"dataframe\">\n",
              "<caption>A data.frame: 6 × 709</caption>\n",
              "<thead>\n",
              "\t<tr><th></th><th scope=col>InternalStudyID</th><th scope=col>REQ_REC.</th><th scope=col>Defendant_Sex</th><th scope=col>Defendant_Race</th><th scope=col>Defendant_BirthYear</th><th scope=col>Defendant_Age</th><th scope=col>Defendant_AgeGroup</th><th scope=col>Defendant_AgeatCurrentArrest</th><th scope=col>Defendant_AttorneyTypeAtCaseClosure</th><th scope=col>Defendant_IndigencyStatus</th><th scope=col>⋯</th><th scope=col>NewFelonySexualAssaultArrest_OffDate</th><th scope=col>NewFelonySexualAssaultArrest_ArrestDate</th><th scope=col>NewFelonySexualAssaultArrest_DaysBetweenContactEventandOffDate</th><th scope=col>NewFelonySexualAssaultArrest_DaysBetweenOffDateandArrestDate</th><th scope=col>NewFelonySexualAssaultArrest_DaysBetweenReleaseDateandOffDate</th><th scope=col>NewFelonySexualAssaultArrest_Disposition</th><th scope=col>Intertnalindicator_ReasonforExcludingFromFollowUpAnalysis</th><th scope=col>CriminalHistoryRecordsReturnedorCMSRecordsFoundforIndividual</th><th scope=col>DispRecordFoundforChargesinOct2017Contact_Atleast1dispfound</th><th scope=col>CrimeCommission2021ReportClassificationofDefendants</th></tr>\n",
              "\t<tr><th></th><th scope=col>&lt;chr&gt;</th><th scope=col>&lt;int&gt;</th><th scope=col>&lt;chr&gt;</th><th scope=col>&lt;chr&gt;</th><th scope=col>&lt;int&gt;</th><th scope=col>&lt;int&gt;</th><th scope=col>&lt;int&gt;</th><th scope=col>&lt;int&gt;</th><th scope=col>&lt;int&gt;</th><th scope=col>&lt;int&gt;</th><th scope=col>⋯</th><th scope=col>&lt;chr&gt;</th><th scope=col>&lt;chr&gt;</th><th scope=col>&lt;int&gt;</th><th scope=col>&lt;int&gt;</th><th scope=col>&lt;int&gt;</th><th scope=col>&lt;int&gt;</th><th scope=col>&lt;int&gt;</th><th scope=col>&lt;int&gt;</th><th scope=col>&lt;int&gt;</th><th scope=col>&lt;chr&gt;</th></tr>\n",
              "</thead>\n",
              "<tbody>\n",
              "\t<tr><th scope=row>1</th><td>ADI00001</td><td>1</td><td>M</td><td>W</td><td>1986</td><td>31</td><td>3</td><td>31</td><td>99</td><td>99</td><td>⋯</td><td> </td><td> </td><td>NA</td><td>999</td><td>999</td><td>NA</td><td>4</td><td>1</td><td>0</td><td>Defendant could not be classified or tracked due to insufficeint data            </td></tr>\n",
              "\t<tr><th scope=row>2</th><td>ADI00007</td><td>3</td><td>M</td><td>B</td><td>1956</td><td>60</td><td>6</td><td>60</td><td> 9</td><td> 9</td><td>⋯</td><td> </td><td> </td><td>NA</td><td>999</td><td>999</td><td>NA</td><td>5</td><td>1</td><td>1</td><td>Defendant Detained Entire Pre-Trial Period_UndeterminedBondType                  </td></tr>\n",
              "\t<tr><th scope=row>3</th><td>ADI00008</td><td>4</td><td>M</td><td>W</td><td>1990</td><td>27</td><td>3</td><td>27</td><td> 9</td><td> 9</td><td>⋯</td><td> </td><td> </td><td>NA</td><td>999</td><td>999</td><td>NA</td><td>5</td><td>1</td><td>1</td><td>Defendant Detained Entire Pre-Trial Period_UndeterminedBondType                  </td></tr>\n",
              "\t<tr><th scope=row>4</th><td>CDI00036</td><td>6</td><td>M</td><td>B</td><td>1989</td><td>27</td><td>3</td><td>27</td><td> 0</td><td> 0</td><td>⋯</td><td> </td><td> </td><td>NA</td><td>999</td><td>999</td><td>NA</td><td>5</td><td>1</td><td>1</td><td>Defendant Detained Entire Pre-Trial Period_UndeterminedBondType                  </td></tr>\n",
              "\t<tr><th scope=row>5</th><td>CDI00038</td><td>7</td><td>F</td><td>W</td><td>1988</td><td>28</td><td>3</td><td>28</td><td> 0</td><td> 0</td><td>⋯</td><td> </td><td> </td><td>NA</td><td>999</td><td>999</td><td>NA</td><td>0</td><td>1</td><td>1</td><td>New criminal offense punishable by incarceration_Released on PR or Unsecured Bond</td></tr>\n",
              "\t<tr><th scope=row>6</th><td>CDI00039</td><td>8</td><td>M</td><td>B</td><td>1978</td><td>39</td><td>4</td><td>39</td><td> 0</td><td> 0</td><td>⋯</td><td> </td><td> </td><td>NA</td><td>999</td><td>999</td><td>NA</td><td>5</td><td>1</td><td>1</td><td>Defendant Detained Entire Pre-Trial Period_UndeterminedBondType                  </td></tr>\n",
              "</tbody>\n",
              "</table>\n"
            ],
            "text/markdown": "\nA data.frame: 6 × 709\n\n| <!--/--> | InternalStudyID &lt;chr&gt; | REQ_REC. &lt;int&gt; | Defendant_Sex &lt;chr&gt; | Defendant_Race &lt;chr&gt; | Defendant_BirthYear &lt;int&gt; | Defendant_Age &lt;int&gt; | Defendant_AgeGroup &lt;int&gt; | Defendant_AgeatCurrentArrest &lt;int&gt; | Defendant_AttorneyTypeAtCaseClosure &lt;int&gt; | Defendant_IndigencyStatus &lt;int&gt; | ⋯ ⋯ | NewFelonySexualAssaultArrest_OffDate &lt;chr&gt; | NewFelonySexualAssaultArrest_ArrestDate &lt;chr&gt; | NewFelonySexualAssaultArrest_DaysBetweenContactEventandOffDate &lt;int&gt; | NewFelonySexualAssaultArrest_DaysBetweenOffDateandArrestDate &lt;int&gt; | NewFelonySexualAssaultArrest_DaysBetweenReleaseDateandOffDate &lt;int&gt; | NewFelonySexualAssaultArrest_Disposition &lt;int&gt; | Intertnalindicator_ReasonforExcludingFromFollowUpAnalysis &lt;int&gt; | CriminalHistoryRecordsReturnedorCMSRecordsFoundforIndividual &lt;int&gt; | DispRecordFoundforChargesinOct2017Contact_Atleast1dispfound &lt;int&gt; | CrimeCommission2021ReportClassificationofDefendants &lt;chr&gt; |\n|---|---|---|---|---|---|---|---|---|---|---|---|---|---|---|---|---|---|---|---|---|---|\n| 1 | ADI00001 | 1 | M | W | 1986 | 31 | 3 | 31 | 99 | 99 | ⋯ | <!----> | <!----> | NA | 999 | 999 | NA | 4 | 1 | 0 | Defendant could not be classified or tracked due to insufficeint data             |\n| 2 | ADI00007 | 3 | M | B | 1956 | 60 | 6 | 60 |  9 |  9 | ⋯ | <!----> | <!----> | NA | 999 | 999 | NA | 5 | 1 | 1 | Defendant Detained Entire Pre-Trial Period_UndeterminedBondType                   |\n| 3 | ADI00008 | 4 | M | W | 1990 | 27 | 3 | 27 |  9 |  9 | ⋯ | <!----> | <!----> | NA | 999 | 999 | NA | 5 | 1 | 1 | Defendant Detained Entire Pre-Trial Period_UndeterminedBondType                   |\n| 4 | CDI00036 | 6 | M | B | 1989 | 27 | 3 | 27 |  0 |  0 | ⋯ | <!----> | <!----> | NA | 999 | 999 | NA | 5 | 1 | 1 | Defendant Detained Entire Pre-Trial Period_UndeterminedBondType                   |\n| 5 | CDI00038 | 7 | F | W | 1988 | 28 | 3 | 28 |  0 |  0 | ⋯ | <!----> | <!----> | NA | 999 | 999 | NA | 0 | 1 | 1 | New criminal offense punishable by incarceration_Released on PR or Unsecured Bond |\n| 6 | CDI00039 | 8 | M | B | 1978 | 39 | 4 | 39 |  0 |  0 | ⋯ | <!----> | <!----> | NA | 999 | 999 | NA | 5 | 1 | 1 | Defendant Detained Entire Pre-Trial Period_UndeterminedBondType                   |\n\n",
            "text/latex": "A data.frame: 6 × 709\n\\begin{tabular}{r|lllllllllllllllllllll}\n  & InternalStudyID & REQ\\_REC. & Defendant\\_Sex & Defendant\\_Race & Defendant\\_BirthYear & Defendant\\_Age & Defendant\\_AgeGroup & Defendant\\_AgeatCurrentArrest & Defendant\\_AttorneyTypeAtCaseClosure & Defendant\\_IndigencyStatus & ⋯ & NewFelonySexualAssaultArrest\\_OffDate & NewFelonySexualAssaultArrest\\_ArrestDate & NewFelonySexualAssaultArrest\\_DaysBetweenContactEventandOffDate & NewFelonySexualAssaultArrest\\_DaysBetweenOffDateandArrestDate & NewFelonySexualAssaultArrest\\_DaysBetweenReleaseDateandOffDate & NewFelonySexualAssaultArrest\\_Disposition & Intertnalindicator\\_ReasonforExcludingFromFollowUpAnalysis & CriminalHistoryRecordsReturnedorCMSRecordsFoundforIndividual & DispRecordFoundforChargesinOct2017Contact\\_Atleast1dispfound & CrimeCommission2021ReportClassificationofDefendants\\\\\n  & <chr> & <int> & <chr> & <chr> & <int> & <int> & <int> & <int> & <int> & <int> & ⋯ & <chr> & <chr> & <int> & <int> & <int> & <int> & <int> & <int> & <int> & <chr>\\\\\n\\hline\n\t1 & ADI00001 & 1 & M & W & 1986 & 31 & 3 & 31 & 99 & 99 & ⋯ &   &   & NA & 999 & 999 & NA & 4 & 1 & 0 & Defendant could not be classified or tracked due to insufficeint data            \\\\\n\t2 & ADI00007 & 3 & M & B & 1956 & 60 & 6 & 60 &  9 &  9 & ⋯ &   &   & NA & 999 & 999 & NA & 5 & 1 & 1 & Defendant Detained Entire Pre-Trial Period\\_UndeterminedBondType                  \\\\\n\t3 & ADI00008 & 4 & M & W & 1990 & 27 & 3 & 27 &  9 &  9 & ⋯ &   &   & NA & 999 & 999 & NA & 5 & 1 & 1 & Defendant Detained Entire Pre-Trial Period\\_UndeterminedBondType                  \\\\\n\t4 & CDI00036 & 6 & M & B & 1989 & 27 & 3 & 27 &  0 &  0 & ⋯ &   &   & NA & 999 & 999 & NA & 5 & 1 & 1 & Defendant Detained Entire Pre-Trial Period\\_UndeterminedBondType                  \\\\\n\t5 & CDI00038 & 7 & F & W & 1988 & 28 & 3 & 28 &  0 &  0 & ⋯ &   &   & NA & 999 & 999 & NA & 0 & 1 & 1 & New criminal offense punishable by incarceration\\_Released on PR or Unsecured Bond\\\\\n\t6 & CDI00039 & 8 & M & B & 1978 & 39 & 4 & 39 &  0 &  0 & ⋯ &   &   & NA & 999 & 999 & NA & 5 & 1 & 1 & Defendant Detained Entire Pre-Trial Period\\_UndeterminedBondType                  \\\\\n\\end{tabular}\n",
            "text/plain": [
              "  InternalStudyID REQ_REC. Defendant_Sex Defendant_Race Defendant_BirthYear\n",
              "1 ADI00001        1        M             W              1986               \n",
              "2 ADI00007        3        M             B              1956               \n",
              "3 ADI00008        4        M             W              1990               \n",
              "4 CDI00036        6        M             B              1989               \n",
              "5 CDI00038        7        F             W              1988               \n",
              "6 CDI00039        8        M             B              1978               \n",
              "  Defendant_Age Defendant_AgeGroup Defendant_AgeatCurrentArrest\n",
              "1 31            3                  31                          \n",
              "2 60            6                  60                          \n",
              "3 27            3                  27                          \n",
              "4 27            3                  27                          \n",
              "5 28            3                  28                          \n",
              "6 39            4                  39                          \n",
              "  Defendant_AttorneyTypeAtCaseClosure Defendant_IndigencyStatus ⋯\n",
              "1 99                                  99                        ⋯\n",
              "2  9                                   9                        ⋯\n",
              "3  9                                   9                        ⋯\n",
              "4  0                                   0                        ⋯\n",
              "5  0                                   0                        ⋯\n",
              "6  0                                   0                        ⋯\n",
              "  NewFelonySexualAssaultArrest_OffDate NewFelonySexualAssaultArrest_ArrestDate\n",
              "1                                                                             \n",
              "2                                                                             \n",
              "3                                                                             \n",
              "4                                                                             \n",
              "5                                                                             \n",
              "6                                                                             \n",
              "  NewFelonySexualAssaultArrest_DaysBetweenContactEventandOffDate\n",
              "1 NA                                                            \n",
              "2 NA                                                            \n",
              "3 NA                                                            \n",
              "4 NA                                                            \n",
              "5 NA                                                            \n",
              "6 NA                                                            \n",
              "  NewFelonySexualAssaultArrest_DaysBetweenOffDateandArrestDate\n",
              "1 999                                                         \n",
              "2 999                                                         \n",
              "3 999                                                         \n",
              "4 999                                                         \n",
              "5 999                                                         \n",
              "6 999                                                         \n",
              "  NewFelonySexualAssaultArrest_DaysBetweenReleaseDateandOffDate\n",
              "1 999                                                          \n",
              "2 999                                                          \n",
              "3 999                                                          \n",
              "4 999                                                          \n",
              "5 999                                                          \n",
              "6 999                                                          \n",
              "  NewFelonySexualAssaultArrest_Disposition\n",
              "1 NA                                      \n",
              "2 NA                                      \n",
              "3 NA                                      \n",
              "4 NA                                      \n",
              "5 NA                                      \n",
              "6 NA                                      \n",
              "  Intertnalindicator_ReasonforExcludingFromFollowUpAnalysis\n",
              "1 4                                                        \n",
              "2 5                                                        \n",
              "3 5                                                        \n",
              "4 5                                                        \n",
              "5 0                                                        \n",
              "6 5                                                        \n",
              "  CriminalHistoryRecordsReturnedorCMSRecordsFoundforIndividual\n",
              "1 1                                                           \n",
              "2 1                                                           \n",
              "3 1                                                           \n",
              "4 1                                                           \n",
              "5 1                                                           \n",
              "6 1                                                           \n",
              "  DispRecordFoundforChargesinOct2017Contact_Atleast1dispfound\n",
              "1 0                                                          \n",
              "2 1                                                          \n",
              "3 1                                                          \n",
              "4 1                                                          \n",
              "5 1                                                          \n",
              "6 1                                                          \n",
              "  CrimeCommission2021ReportClassificationofDefendants                              \n",
              "1 Defendant could not be classified or tracked due to insufficeint data            \n",
              "2 Defendant Detained Entire Pre-Trial Period_UndeterminedBondType                  \n",
              "3 Defendant Detained Entire Pre-Trial Period_UndeterminedBondType                  \n",
              "4 Defendant Detained Entire Pre-Trial Period_UndeterminedBondType                  \n",
              "5 New criminal offense punishable by incarceration_Released on PR or Unsecured Bond\n",
              "6 Defendant Detained Entire Pre-Trial Period_UndeterminedBondType                  "
            ]
          },
          "metadata": {}
        }
      ]
    },
    {
      "cell_type": "code",
      "source": [
        "pretrial2 <- pretrial2 %>%\n",
        "  mutate(released = ifelse(released == 9, NA, released)) # change 9s to NA\n",
        "\n",
        "missing_values <- sum(is.na(pretrial2$released)) # count and print missing values\n",
        "print(missing_values)"
      ],
      "metadata": {
        "id": "0TVFztVwK-7l",
        "outputId": "58df51e0-6769-4a07-ce41-6e59c8c4f6fb",
        "colab": {
          "base_uri": "https://localhost:8080/"
        }
      },
      "id": "0TVFztVwK-7l",
      "execution_count": 28,
      "outputs": [
        {
          "output_type": "stream",
          "name": "stdout",
          "text": [
            "[1] 31\n"
          ]
        }
      ]
    },
    {
      "cell_type": "code",
      "source": [
        "pretrial2 <- pretrial2 %>%\n",
        "  rename(sentence = ImposedSentenceAllChargeInContactEvent)"
      ],
      "metadata": {
        "id": "xjn_7AsJLY9r"
      },
      "id": "xjn_7AsJLY9r",
      "execution_count": 33,
      "outputs": []
    },
    {
      "cell_type": "code",
      "source": [
        "pretrial2 <- pretrial2 %>%\n",
        "  mutate(sentence = as.numeric(sentence)) # check numeric\n",
        "\n",
        "\n",
        "pretrial2 <- pretrial2 %>%\n",
        "  mutate(sentence = case_when(\n",
        "    SentenceTypeAllChargesAtConvictionInContactEvent == 0 ~ 0,  # no sentence\n",
        "    SentenceTypeAllChargesAtConvictionInContactEvent %in% c(4, 9) ~ NA_real_,  # probation or unknown\n",
        "    TRUE ~ sentence  # keep existing values\n",
        "  ))\n",
        "\n",
        "sum(is.na(pretrial2$sentence))\n",
        "\n",
        "pretrial2 <- pretrial2 %>%\n",
        "  mutate(sentence = case_when(\n",
        "    sentence %% 1 == 0 ~ as.integer(sentence),  # convert whole numbers to integers\n",
        "    TRUE ~ sentence  # keep decimal values unchanged\n",
        "  ))"
      ],
      "metadata": {
        "id": "nGpwDclrLBtf",
        "outputId": "51af0873-1816-4352-b08a-c918c1dc0476",
        "colab": {
          "base_uri": "https://localhost:8080/",
          "height": 34
        }
      },
      "id": "nGpwDclrLBtf",
      "execution_count": 31,
      "outputs": [
        {
          "output_type": "display_data",
          "data": {
            "text/html": [
              "9053"
            ],
            "text/markdown": "9053",
            "text/latex": "9053",
            "text/plain": [
              "[1] 9053"
            ]
          },
          "metadata": {}
        }
      ]
    },
    {
      "cell_type": "markdown",
      "id": "649494cd-cfd6-4f80-992a-9994fc19e1d5",
      "metadata": {
        "id": "649494cd-cfd6-4f80-992a-9994fc19e1d5"
      },
      "source": [
        "**Q3.** Many important datasets contain a race variable, typically limited to a handful of values often including Black, White, Asian, Latino, and Indigenous. This question looks at data gathering efforts on this variable by the U.S. Federal government.\n",
        "\n",
        "1. How did the most recent US Census gather data on race?\n",
        "2. Why do we gather these data? What role do these kinds of data play in politics and society? Why does data quality matter?\n",
        "3. Please provide a constructive criticism of how the Census was conducted: What was done well? What do you think was missing? How should future large scale surveys be adjusted to best reflect the diversity of the population? Could some of the Census' good practices be adopted more widely to gather richer and more useful data?\n",
        "4. How did the Census gather data on sex and gender? Please provide a similar constructive criticism of their practices.\n",
        "5. When it comes to cleaning data, what concerns do you have about protected characteristics like sex, gender, sexual identity, or race? What challenges can you imagine arising when there are missing values? What good or bad practices might people adopt, and why?\n",
        "6. Suppose someone invented an algorithm to impute values for protected characteristics like race, gender, sex, or sexuality. What kinds of concerns would you have?"
      ]
    }
  ],
  "metadata": {
    "colab": {
      "provenance": []
    },
    "kernelspec": {
      "display_name": "R",
      "name": "ir"
    },
    "language_info": {
      "name": "R"
    }
  },
  "nbformat": 4,
  "nbformat_minor": 5
}